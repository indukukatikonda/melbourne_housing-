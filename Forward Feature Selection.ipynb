{
  "nbformat": 4,
  "nbformat_minor": 0,
  "metadata": {
    "colab": {
      "provenance": []
    },
    "kernelspec": {
      "name": "python3",
      "display_name": "Python 3"
    },
    "language_info": {
      "name": "python"
    }
  },
  "cells": [
    {
      "cell_type": "code",
      "execution_count": 2,
      "metadata": {
        "colab": {
          "base_uri": "https://localhost:8080/"
        },
        "id": "vctUU6Dd9d4O",
        "outputId": "ddafcf3f-441a-4c97-deb4-a7b65eb8dfcc"
      },
      "outputs": [
        {
          "output_type": "stream",
          "name": "stdout",
          "text": [
            "Selected features for prediction:\n",
            "Index(['Rooms', 'Distance', 'Postcode', 'YearBuilt', 'Lattitude',\n",
            "       'Longtitude'],\n",
            "      dtype='object')\n",
            "\n",
            "Mean Absolute Error with selected features: 310442.66414210177\n"
          ]
        }
      ],
      "source": [
        "import pandas as pd\n",
        "from sklearn.model_selection import train_test_split\n",
        "from sklearn.linear_model import LinearRegression\n",
        "from sklearn.feature_selection import SequentialFeatureSelector\n",
        "from sklearn.impute import SimpleImputer\n",
        "from sklearn.metrics import mean_absolute_error\n",
        "\n",
        "# Load the dataset\n",
        "file_path = '/content/melbourne_housing_raw.csv'\n",
        "melbourne_data = pd.read_csv(file_path)\n",
        "\n",
        "# Drop rows with missing target (Price) values\n",
        "melbourne_data_clean = melbourne_data.dropna(subset=['Price'])\n",
        "\n",
        "# Split features and target\n",
        "X = melbourne_data_clean.drop(columns=['Price'])\n",
        "y = melbourne_data_clean['Price']\n",
        "\n",
        "# Drop object-type columns (categorical) for this numerical analysis\n",
        "X_numerical = X.select_dtypes(include=['float64', 'int64'])\n",
        "\n",
        "# Handle missing values with mean imputation\n",
        "imputer = SimpleImputer(strategy='mean')\n",
        "X_numerical_imputed = pd.DataFrame(imputer.fit_transform(X_numerical), columns=X_numerical.columns)\n",
        "\n",
        "# Split the dataset into training and testing sets\n",
        "X_train, X_test, y_train, y_test = train_test_split(X_numerical_imputed, y, test_size=0.2, random_state=42)\n",
        "\n",
        "# Initialize linear regression model\n",
        "lr = LinearRegression()\n",
        "\n",
        "# Perform forward feature selection using SequentialFeatureSelector\n",
        "sfs = SequentialFeatureSelector(lr, n_features_to_select=\"auto\", direction='forward', scoring='neg_mean_absolute_error', cv=5)\n",
        "sfs.fit(X_train, y_train)\n",
        "\n",
        "# Get the selected feature names\n",
        "selected_features = X_numerical_imputed.columns[sfs.get_support()]\n",
        "\n",
        "print(\"Selected features for prediction:\")\n",
        "print(selected_features)\n",
        "\n",
        "# Train the model using the selected features\n",
        "X_train_selected = sfs.transform(X_train)\n",
        "X_test_selected = sfs.transform(X_test)\n",
        "lr.fit(X_train_selected, y_train)\n",
        "\n",
        "# Make predictions and evaluate the model\n",
        "y_pred = lr.predict(X_test_selected)\n",
        "mae = mean_absolute_error(y_test, y_pred)\n",
        "\n",
        "print(\"\\nMean Absolute Error with selected features:\", mae)\n"
      ]
    }
  ]
}