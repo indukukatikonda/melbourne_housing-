{
  "cells": [
    {
      "cell_type": "code",
      "execution_count": 2,
      "metadata": {
        "colab": {
          "base_uri": "https://localhost:8080/"
        },
        "id": "qOSWr4aWUIIu",
        "outputId": "d09d3fbe-d632-4435-9cff-98039a0f233e"
      },
      "outputs": [
        {
          "output_type": "stream",
          "name": "stdout",
          "text": [
            "Columns with more than 20% missing data that are removed:\n",
            "BuildingArea\n",
            "YearBuilt\n",
            "Car\n",
            "Bathroom\n",
            "Bedroom2\n",
            "Landsize\n",
            "Lattitude\n",
            "Longtitude\n",
            "\n",
            "Number of rows after handling missing values in Price: 27247\n",
            "Mean Absolute Error: 199084.30510074442\n"
          ]
        }
      ],
      "source": [
        "import pandas as pd\n",
        "from sklearn.model_selection import train_test_split\n",
        "from sklearn.ensemble import RandomForestRegressor\n",
        "from sklearn.metrics import mean_absolute_error\n",
        "\n",
        "# Load the dataset\n",
        "file_path = '/content/melbourne_housing_raw.csv'\n",
        "melbourne_data = pd.read_csv(file_path)\n",
        "\n",
        "# Step 1: Identify and Filter Columns\n",
        "# Define the columns to be removed based on more than 20% missing values\n",
        "columns_to_remove = [\n",
        "    'BuildingArea',  # 60.58% missing\n",
        "    'YearBuilt',     # 55.39% missing\n",
        "    'Car',           # 25.04% missing\n",
        "    'Bathroom',      # 23.60% missing\n",
        "    'Bedroom2',      # 23.57% missing\n",
        "    'Landsize',      # 33.88% missing\n",
        "    'Lattitude',     # 22.88% missing\n",
        "    'Longtitude'     # 22.88% missing\n",
        "]\n",
        "\n",
        "# Print the columns that will be removed in vertical manner\n",
        "print(\"Columns with more than 20% missing data that are removed:\")\n",
        "for column in columns_to_remove:\n",
        "    print(column)\n",
        "\n",
        "# Remove these columns from the dataset\n",
        "filtered_data = melbourne_data.drop(columns=columns_to_remove)\n",
        "\n",
        "# Step 2: Handle Missing Values in Price\n",
        "# Drop rows with missing values in the 'Price' column\n",
        "filtered_data = filtered_data.dropna(subset=['Price'])\n",
        "\n",
        "# After dropping missing Price values, we can confirm how many rows are left\n",
        "print(f'\\nNumber of rows after handling missing values in Price: {filtered_data.shape[0]}')\n",
        "\n",
        "# Step 3: Data Split\n",
        "# Define the target variable and features\n",
        "X = filtered_data.drop(columns=['Price'])\n",
        "y = filtered_data['Price']\n",
        "\n",
        "# One-hot encode categorical variables\n",
        "X_encoded = pd.get_dummies(X, drop_first=True)\n",
        "\n",
        "# Split the data into training and testing sets\n",
        "X_train, X_test, y_train, y_test = train_test_split(X_encoded, y, test_size=0.2, random_state=42)\n",
        "\n",
        "# Step 4: Model Training and Performance\n",
        "# Train a basic Random Forest model\n",
        "model = RandomForestRegressor(random_state=42, n_estimators=100)\n",
        "model.fit(X_train, y_train)\n",
        "\n",
        "# Predict on the test set and evaluate the model\n",
        "y_pred = model.predict(X_test)\n",
        "mae = mean_absolute_error(y_test, y_pred)\n",
        "\n",
        "print(f'Mean Absolute Error: {mae}')\n"
      ]
    }
  ],
  "metadata": {
    "colab": {
      "provenance": []
    },
    "kernelspec": {
      "display_name": "Python 3",
      "name": "python3"
    },
    "language_info": {
      "name": "python"
    }
  },
  "nbformat": 4,
  "nbformat_minor": 0
}