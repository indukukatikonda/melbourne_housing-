{
  "nbformat": 4,
  "nbformat_minor": 0,
  "metadata": {
    "colab": {
      "provenance": []
    },
    "kernelspec": {
      "name": "python3",
      "display_name": "Python 3"
    },
    "language_info": {
      "name": "python"
    }
  },
  "cells": [
    {
      "cell_type": "code",
      "execution_count": 2,
      "metadata": {
        "colab": {
          "base_uri": "https://localhost:8080/"
        },
        "id": "pOYlDvOt8S9A",
        "outputId": "81db7472-d9e4-4bd4-ba62-1d5111aea5a8"
      },
      "outputs": [
        {
          "output_type": "stream",
          "name": "stdout",
          "text": [
            "Features with missing values:\n",
            "Index(['Distance', 'Postcode', 'Bedroom2', 'Bathroom', 'Car', 'Landsize',\n",
            "       'BuildingArea', 'YearBuilt', 'Lattitude', 'Longtitude',\n",
            "       'Propertycount'],\n",
            "      dtype='object')\n",
            "\n",
            "Low variance features removed:\n",
            "Index(['Lattitude', 'Longtitude'], dtype='object')\n",
            "\n",
            "Mean Absolute Error (MAE) before filtering: 179476.4312564365\n",
            "Mean Absolute Error (MAE) after filtering: 185711.7544868934\n"
          ]
        }
      ],
      "source": [
        "import pandas as pd\n",
        "from sklearn.model_selection import train_test_split\n",
        "from sklearn.ensemble import RandomForestRegressor\n",
        "from sklearn.metrics import mean_absolute_error\n",
        "from sklearn.impute import SimpleImputer\n",
        "\n",
        "# Load the dataset\n",
        "file_path = '/content/melbourne_housing_raw.csv'\n",
        "melbourne_data = pd.read_csv(file_path)\n",
        "\n",
        "# Drop rows with missing target (Price) values\n",
        "melbourne_data_clean = melbourne_data.dropna(subset=['Price'])\n",
        "\n",
        "# Split features and target\n",
        "X = melbourne_data_clean.drop(columns=['Price'])\n",
        "y = melbourne_data_clean['Price']\n",
        "\n",
        "# Drop object-type columns (categorical) for this numerical analysis\n",
        "X_numerical = X.select_dtypes(include=['float64', 'int64'])\n",
        "\n",
        "# Display columns with missing values\n",
        "missing_features = X_numerical.columns[X_numerical.isnull().any()]\n",
        "print(\"Features with missing values:\")\n",
        "print(missing_features)\n",
        "\n",
        "# Calculate variance for numerical features\n",
        "variance = X_numerical.var()\n",
        "\n",
        "# Set a threshold for low variance (e.g., variance below 0.1 will be considered low)\n",
        "low_variance_cols = variance[variance < 0.1].index\n",
        "print(\"\\nLow variance features removed:\")\n",
        "print(low_variance_cols)\n",
        "\n",
        "# Remove low variance features\n",
        "X_numerical_filtered = X_numerical.drop(columns=low_variance_cols)\n",
        "\n",
        "# Handle missing values with mean imputation\n",
        "imputer = SimpleImputer(strategy='mean')\n",
        "X_numerical_imputed = pd.DataFrame(imputer.fit_transform(X_numerical), columns=X_numerical.columns)\n",
        "X_numerical_filtered_imputed = pd.DataFrame(imputer.fit_transform(X_numerical_filtered), columns=X_numerical_filtered.columns)\n",
        "\n",
        "# Function to train and evaluate model\n",
        "def train_evaluate_model(X, y):\n",
        "    X_train, X_test, y_train, y_test = train_test_split(X, y, test_size=0.2, random_state=42)\n",
        "    model = RandomForestRegressor(random_state=42)\n",
        "    model.fit(X_train, y_train)\n",
        "    predictions = model.predict(X_test)\n",
        "    mae = mean_absolute_error(y_test, predictions)\n",
        "    return mae\n",
        "\n",
        "# Train and evaluate the model on the imputed numerical features\n",
        "mae_before_filtering = train_evaluate_model(X_numerical_imputed, y)\n",
        "\n",
        "# Train and evaluate the model after filtering out low variance features\n",
        "mae_after_filtering = train_evaluate_model(X_numerical_filtered_imputed, y)\n",
        "\n",
        "print(\"\\nMean Absolute Error (MAE) before filtering:\", mae_before_filtering)\n",
        "print(\"Mean Absolute Error (MAE) after filtering:\", mae_after_filtering)\n"
      ]
    }
  ]
}