{
  "nbformat": 4,
  "nbformat_minor": 0,
  "metadata": {
    "colab": {
      "provenance": []
    },
    "kernelspec": {
      "name": "python3",
      "display_name": "Python 3"
    },
    "language_info": {
      "name": "python"
    }
  },
  "cells": [
    {
      "cell_type": "code",
      "source": [
        "import pandas as pd\n",
        "import numpy as np\n",
        "\n",
        "# Step 1: Load the Dataset\n",
        "file_path = '/content/melbourne_housing_raw.csv'\n",
        "melbourne_data = pd.read_csv(file_path)\n",
        "\n",
        "# Step 2: Calculate Correlation Matrix for Numeric Columns Only\n",
        "numeric_data = melbourne_data.select_dtypes(include=[np.number])  # Select only numeric columns\n",
        "correlation_matrix = numeric_data.corr().abs()  # Calculate absolute correlation values\n",
        "\n",
        "# Display the correlation matrix\n",
        "print(\"Correlation Matrix (absolute values):\")\n",
        "print(correlation_matrix.to_string())  # Use to_string() for better formatting in console output\n",
        "\n",
        "# Step 3: Identify Highly Correlated Features\n",
        "# Select upper triangle of the correlation matrix\n",
        "upper_triangle = correlation_matrix.where(np.triu(np.ones(correlation_matrix.shape), k=1).astype(bool))\n",
        "\n",
        "# Find features with correlation greater than 0.85\n",
        "high_corr_features = [column for column in upper_triangle.columns if any(upper_triangle[column] > 0.85)]\n",
        "\n",
        "# Print the highly correlated features that will be removed\n",
        "print(\"\\nHighly correlated features with correlation > 0.85 that are removed:\")\n",
        "for feature in high_corr_features:\n",
        "    print(feature)\n",
        "\n",
        "# Step 4: Remove the Highly Correlated Features\n",
        "filtered_data = melbourne_data.drop(columns=high_corr_features)\n",
        "\n",
        "# Display the shape of the new filtered dataset\n",
        "print(\"\\nShape of the dataset after removing highly correlated features:\", filtered_data.shape)\n"
      ],
      "metadata": {
        "colab": {
          "base_uri": "https://localhost:8080/"
        },
        "id": "WEuNDZxmcGPz",
        "outputId": "a4fbe29b-6b59-4420-9e88-ee9232fff18b"
      },
      "execution_count": 2,
      "outputs": [
        {
          "output_type": "stream",
          "name": "stdout",
          "text": [
            "Correlation Matrix (absolute values):\n",
            "                  Rooms     Price  Distance  Postcode  Bedroom2  Bathroom       Car  Landsize  BuildingArea  YearBuilt  Lattitude  Longtitude  Propertycount\n",
            "Rooms          1.000000  0.465238  0.271511  0.085890  0.946755  0.611826  0.393878  0.037402      0.156229   0.012749   0.004872    0.103235       0.071677\n",
            "Price          0.465238  1.000000  0.211384  0.044950  0.430275  0.429878  0.201803  0.032748      0.100754   0.333306   0.215607    0.197874       0.059017\n",
            "Distance       0.271511  0.211384  1.000000  0.481566  0.269524  0.126201  0.241835  0.060862      0.076301   0.323059   0.100417    0.200946       0.018140\n",
            "Postcode       0.085890  0.044950  0.481566  1.000000  0.089292  0.120080  0.067886  0.040664      0.042437   0.089805   0.231027    0.362895       0.017108\n",
            "Bedroom2       0.946755  0.430275  0.269524  0.089292  1.000000  0.614892  0.388491  0.037019      0.154157   0.002022   0.003447    0.106164       0.053451\n",
            "Bathroom       0.611826  0.429878  0.126201  0.120080  0.614892  1.000000  0.307518  0.036333      0.147558   0.167955   0.059183    0.106531       0.032887\n",
            "Car            0.393878  0.201803  0.241835  0.067886  0.388491  0.307518  1.000000  0.037829      0.104373   0.128702   0.009020    0.047213       0.009617\n",
            "Landsize       0.037402  0.032748  0.060862  0.040664  0.037019  0.036333  0.037829  1.000000      0.354530   0.044474   0.025318    0.002582       0.018195\n",
            "BuildingArea   0.156229  0.100754  0.076301  0.042437  0.154157  0.147558  0.104373  0.354530      1.000000   0.067811   0.017155    0.002143       0.024523\n",
            "YearBuilt      0.012749  0.333306  0.323059  0.089805  0.002022  0.167955  0.128702  0.044474      0.067811   1.000000   0.091592    0.022175       0.022420\n",
            "Lattitude      0.004872  0.215607  0.100417  0.231027  0.003447  0.059183  0.009020  0.025318      0.017155   0.091592   1.000000    0.345589       0.011112\n",
            "Longtitude     0.103235  0.197874  0.200946  0.362895  0.106164  0.106531  0.047213  0.002582      0.002143   0.022175   0.345589    1.000000       0.016326\n",
            "Propertycount  0.071677  0.059017  0.018140  0.017108  0.053451  0.032887  0.009617  0.018195      0.024523   0.022420   0.011112    0.016326       1.000000\n",
            "\n",
            "Highly correlated features with correlation > 0.85 that are removed:\n",
            "Bedroom2\n",
            "\n",
            "Shape of the dataset after removing highly correlated features: (34857, 19)\n"
          ]
        }
      ]
    }
  ]
}