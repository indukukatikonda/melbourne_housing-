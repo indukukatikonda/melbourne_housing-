{
  "nbformat": 4,
  "nbformat_minor": 0,
  "metadata": {
    "colab": {
      "provenance": []
    },
    "kernelspec": {
      "name": "python3",
      "display_name": "Python 3"
    },
    "language_info": {
      "name": "python"
    }
  },
  "cells": [
    {
      "cell_type": "code",
      "execution_count": 2,
      "metadata": {
        "colab": {
          "base_uri": "https://localhost:8080/"
        },
        "id": "Zy1P__YB-Mku",
        "outputId": "79baf9f1-6157-4f5e-c9df-6483c8a2bf56"
      },
      "outputs": [
        {
          "output_type": "stream",
          "name": "stdout",
          "text": [
            "Feature Rankings:\n",
            "          Feature  Ranking\n",
            "2        Postcode        1\n",
            "1        Distance        2\n",
            "0           Rooms        3\n",
            "6        Landsize        4\n",
            "10     Longtitude        5\n",
            "7    BuildingArea        6\n",
            "9       Lattitude        7\n",
            "11  Propertycount        8\n",
            "8       YearBuilt        9\n",
            "4        Bathroom       10\n",
            "5             Car       11\n",
            "3        Bedroom2       12\n",
            "\n",
            "Model Performance after feature elimination:\n",
            "Number of features left: 11, MAE: 176998.19870524888\n",
            "Number of features left: 10, MAE: 177714.15932807353\n",
            "Number of features left: 9, MAE: 181258.39991172406\n",
            "Number of features left: 8, MAE: 182413.51800820546\n",
            "Number of features left: 7, MAE: 183782.7822219414\n",
            "Number of features left: 6, MAE: 187781.76158525897\n",
            "Number of features left: 5, MAE: 196097.33604028804\n",
            "Number of features left: 4, MAE: 205806.3389602595\n",
            "Number of features left: 3, MAE: 228167.78543471175\n",
            "Number of features left: 2, MAE: 335833.91629570926\n",
            "Number of features left: 1, MAE: 338353.7961801237\n"
          ]
        }
      ],
      "source": [
        "import pandas as pd\n",
        "from sklearn.ensemble import RandomForestRegressor\n",
        "from sklearn.model_selection import train_test_split\n",
        "from sklearn.metrics import mean_absolute_error\n",
        "from sklearn.feature_selection import RFE\n",
        "from sklearn.impute import SimpleImputer\n",
        "\n",
        "# Load the dataset\n",
        "melbourne_data = pd.read_csv('/content/melbourne_housing_raw.csv')  # Replace with your dataset path\n",
        "\n",
        "# Drop rows with missing target (Price)\n",
        "melbourne_data_cleaned = melbourne_data.dropna(subset=['Price'])\n",
        "\n",
        "# Select numerical columns and drop the target column\n",
        "X = melbourne_data_cleaned.select_dtypes(include=['float64', 'int64']).drop(columns=['Price'])\n",
        "y = melbourne_data_cleaned['Price']\n",
        "\n",
        "# Impute missing values using the mean strategy\n",
        "imputer = SimpleImputer(strategy='mean')\n",
        "X_imputed = imputer.fit_transform(X)\n",
        "\n",
        "# Split the data into training and testing sets\n",
        "X_train, X_test, y_train, y_test = train_test_split(X_imputed, y, test_size=0.2, random_state=0)\n",
        "\n",
        "# Initialize the RandomForest model\n",
        "model = RandomForestRegressor(random_state=0)\n",
        "\n",
        "# Use Recursive Feature Elimination (RFE) to rank features by importance\n",
        "rfe = RFE(estimator=model, n_features_to_select=1, step=1)\n",
        "rfe.fit(X_train, y_train)\n",
        "\n",
        "# Get feature ranking\n",
        "ranking = rfe.ranking_\n",
        "feature_names = melbourne_data_cleaned.select_dtypes(include=['float64', 'int64']).drop(columns=['Price']).columns\n",
        "\n",
        "# Create a dataframe to show features and their rankings\n",
        "feature_ranking = pd.DataFrame({'Feature': feature_names, 'Ranking': ranking})\n",
        "feature_ranking_sorted = feature_ranking.sort_values(by='Ranking')\n",
        "\n",
        "# Display feature ranking\n",
        "print(\"Feature Rankings:\")\n",
        "print(feature_ranking_sorted)\n",
        "\n",
        "# Evaluate model performance after removing least important features one by one\n",
        "mae_list = []\n",
        "features_left = list(feature_names)\n",
        "\n",
        "for i in range(1, len(features_left)):\n",
        "    # Select top i features (excluding least important features)\n",
        "    selected_features = feature_ranking_sorted['Feature'].head(len(features_left) - i)\n",
        "    X_train_selected = pd.DataFrame(X_train, columns=feature_names)[selected_features]\n",
        "    X_test_selected = pd.DataFrame(X_test, columns=feature_names)[selected_features]\n",
        "\n",
        "    # Train and evaluate model with selected features\n",
        "    model.fit(X_train_selected, y_train)\n",
        "    y_pred = model.predict(X_test_selected)\n",
        "    mae = mean_absolute_error(y_test, y_pred)\n",
        "    mae_list.append((len(selected_features), mae))\n",
        "\n",
        "# Display MAE as features are eliminated\n",
        "print(\"\\nModel Performance after feature elimination:\")\n",
        "for num_features, mae in mae_list:\n",
        "    print(f'Number of features left: {num_features}, MAE: {mae}')\n"
      ]
    }
  ]
}